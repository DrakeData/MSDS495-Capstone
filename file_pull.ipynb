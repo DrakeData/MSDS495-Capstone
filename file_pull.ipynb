{
 "cells": [
  {
   "cell_type": "code",
   "execution_count": 11,
   "id": "0577aa1e",
   "metadata": {},
   "outputs": [],
   "source": [
    "import pandas as pd\n",
    "import os\n",
    "import glob\n",
    "import h5py"
   ]
  },
  {
   "cell_type": "markdown",
   "id": "22f83528",
   "metadata": {},
   "source": [
    "## Set up directory"
   ]
  },
  {
   "cell_type": "code",
   "execution_count": 6,
   "id": "f3604032",
   "metadata": {},
   "outputs": [
    {
     "data": {
      "text/plain": [
       "'C:\\\\Users\\\\Nicholas\\\\Documents\\\\Northwestern\\\\MSDS495\\\\MSDS495-Capstone\\\\sample_data'"
      ]
     },
     "execution_count": 6,
     "metadata": {},
     "output_type": "execute_result"
    }
   ],
   "source": [
    "ROOT_DIR = os.getcwd()\n",
    "FILE_DIR = os.path.join(ROOT_DIR, 'sample_data')\n",
    "FILE_DIR"
   ]
  },
  {
   "cell_type": "code",
   "execution_count": 8,
   "id": "514e2699",
   "metadata": {},
   "outputs": [
    {
     "name": "stdout",
     "output_type": "stream",
     "text": [
      "file_list ['C:\\\\Users\\\\Nicholas\\\\Documents\\\\Northwestern\\\\MSDS495\\\\MSDS495-Capstone\\\\sample_data\\\\TRAAAAW128F429D538.h5', 'C:\\\\Users\\\\Nicholas\\\\Documents\\\\Northwestern\\\\MSDS495\\\\MSDS495-Capstone\\\\sample_data\\\\TRAAABD128F429CF47.h5', 'C:\\\\Users\\\\Nicholas\\\\Documents\\\\Northwestern\\\\MSDS495\\\\MSDS495-Capstone\\\\sample_data\\\\TRAAADZ128F9348C2E.h5', 'C:\\\\Users\\\\Nicholas\\\\Documents\\\\Northwestern\\\\MSDS495\\\\MSDS495-Capstone\\\\sample_data\\\\TRAAAEF128F4273421.h5', 'C:\\\\Users\\\\Nicholas\\\\Documents\\\\Northwestern\\\\MSDS495\\\\MSDS495-Capstone\\\\sample_data\\\\TRAAAFD128F92F423A.h5', 'C:\\\\Users\\\\Nicholas\\\\Documents\\\\Northwestern\\\\MSDS495\\\\MSDS495-Capstone\\\\sample_data\\\\TRAAAMO128F1481E7F.h5', 'C:\\\\Users\\\\Nicholas\\\\Documents\\\\Northwestern\\\\MSDS495\\\\MSDS495-Capstone\\\\sample_data\\\\TRAAAMQ128F1460CD3.h5', 'C:\\\\Users\\\\Nicholas\\\\Documents\\\\Northwestern\\\\MSDS495\\\\MSDS495-Capstone\\\\sample_data\\\\TRAAAPK128E0786D96.h5', 'C:\\\\Users\\\\Nicholas\\\\Documents\\\\Northwestern\\\\MSDS495\\\\MSDS495-Capstone\\\\sample_data\\\\TRAAARJ128F9320760.h5', 'C:\\\\Users\\\\Nicholas\\\\Documents\\\\Northwestern\\\\MSDS495\\\\MSDS495-Capstone\\\\sample_data\\\\TRAAAVG12903CFA543.h5', 'C:\\\\Users\\\\Nicholas\\\\Documents\\\\Northwestern\\\\MSDS495\\\\MSDS495-Capstone\\\\sample_data\\\\TRAAAVO128F93133D4.h5']\n"
     ]
    }
   ],
   "source": [
    "file_list = glob.glob(FILE_DIR + \"/*.h5\") # Include slash or it will search in the wrong directory!!\n",
    "print('file_list {}'.format(file_list))"
   ]
  },
  {
   "cell_type": "code",
   "execution_count": 9,
   "id": "721854d1",
   "metadata": {},
   "outputs": [
    {
     "data": {
      "text/plain": [
       "'C:\\\\Users\\\\Nicholas\\\\Documents\\\\Northwestern\\\\MSDS495\\\\MSDS495-Capstone\\\\sample_data\\\\TRAAAAW128F429D538.h5'"
      ]
     },
     "execution_count": 9,
     "metadata": {},
     "output_type": "execute_result"
    }
   ],
   "source": [
    "file_list[0]"
   ]
  },
  {
   "cell_type": "code",
   "execution_count": 12,
   "id": "c8a0448e",
   "metadata": {},
   "outputs": [],
   "source": [
    "# Open the HDF5 file\n",
    "file = h5py.File(file_list[0], 'r')"
   ]
  },
  {
   "cell_type": "code",
   "execution_count": 14,
   "id": "de589e7a",
   "metadata": {},
   "outputs": [
    {
     "data": {
      "text/plain": [
       "<HDF5 file \"TRAAAAW128F429D538.h5\" (mode r)>"
      ]
     },
     "execution_count": 14,
     "metadata": {},
     "output_type": "execute_result"
    }
   ],
   "source": [
    "file"
   ]
  },
  {
   "cell_type": "code",
   "execution_count": 17,
   "id": "f87e3b55",
   "metadata": {},
   "outputs": [
    {
     "data": {
      "text/html": [
       "<div>\n",
       "<style scoped>\n",
       "    .dataframe tbody tr th:only-of-type {\n",
       "        vertical-align: middle;\n",
       "    }\n",
       "\n",
       "    .dataframe tbody tr th {\n",
       "        vertical-align: top;\n",
       "    }\n",
       "\n",
       "    .dataframe thead th {\n",
       "        text-align: right;\n",
       "    }\n",
       "</style>\n",
       "<table border=\"1\" class=\"dataframe\">\n",
       "  <thead>\n",
       "    <tr style=\"text-align: right;\">\n",
       "      <th></th>\n",
       "      <th>0</th>\n",
       "    </tr>\n",
       "  </thead>\n",
       "  <tbody>\n",
       "    <tr>\n",
       "      <th>0</th>\n",
       "      <td>analysis</td>\n",
       "    </tr>\n",
       "    <tr>\n",
       "      <th>1</th>\n",
       "      <td>metadata</td>\n",
       "    </tr>\n",
       "    <tr>\n",
       "      <th>2</th>\n",
       "      <td>musicbrainz</td>\n",
       "    </tr>\n",
       "  </tbody>\n",
       "</table>\n",
       "</div>"
      ],
      "text/plain": [
       "             0\n",
       "0     analysis\n",
       "1     metadata\n",
       "2  musicbrainz"
      ]
     },
     "execution_count": 17,
     "metadata": {},
     "output_type": "execute_result"
    }
   ],
   "source": [
    "# See the data sets\n",
    "df = pd.DataFrame(file)\n",
    "df"
   ]
  },
  {
   "cell_type": "markdown",
   "id": "608e9dc9",
   "metadata": {},
   "source": [
    "## Analysis data set"
   ]
  },
  {
   "cell_type": "code",
   "execution_count": 49,
   "id": "c2ffa9f0",
   "metadata": {},
   "outputs": [],
   "source": [
    "dataset = file['analysis']"
   ]
  },
  {
   "cell_type": "code",
   "execution_count": 50,
   "id": "a8e320c1",
   "metadata": {},
   "outputs": [
    {
     "data": {
      "text/html": [
       "<div>\n",
       "<style scoped>\n",
       "    .dataframe tbody tr th:only-of-type {\n",
       "        vertical-align: middle;\n",
       "    }\n",
       "\n",
       "    .dataframe tbody tr th {\n",
       "        vertical-align: top;\n",
       "    }\n",
       "\n",
       "    .dataframe thead th {\n",
       "        text-align: right;\n",
       "    }\n",
       "</style>\n",
       "<table border=\"1\" class=\"dataframe\">\n",
       "  <thead>\n",
       "    <tr style=\"text-align: right;\">\n",
       "      <th></th>\n",
       "      <th>0</th>\n",
       "    </tr>\n",
       "  </thead>\n",
       "  <tbody>\n",
       "    <tr>\n",
       "      <th>0</th>\n",
       "      <td>bars_confidence</td>\n",
       "    </tr>\n",
       "    <tr>\n",
       "      <th>1</th>\n",
       "      <td>bars_start</td>\n",
       "    </tr>\n",
       "    <tr>\n",
       "      <th>2</th>\n",
       "      <td>beats_confidence</td>\n",
       "    </tr>\n",
       "    <tr>\n",
       "      <th>3</th>\n",
       "      <td>beats_start</td>\n",
       "    </tr>\n",
       "    <tr>\n",
       "      <th>4</th>\n",
       "      <td>sections_confidence</td>\n",
       "    </tr>\n",
       "    <tr>\n",
       "      <th>5</th>\n",
       "      <td>sections_start</td>\n",
       "    </tr>\n",
       "    <tr>\n",
       "      <th>6</th>\n",
       "      <td>segments_confidence</td>\n",
       "    </tr>\n",
       "    <tr>\n",
       "      <th>7</th>\n",
       "      <td>segments_loudness_max</td>\n",
       "    </tr>\n",
       "    <tr>\n",
       "      <th>8</th>\n",
       "      <td>segments_loudness_max_time</td>\n",
       "    </tr>\n",
       "    <tr>\n",
       "      <th>9</th>\n",
       "      <td>segments_loudness_start</td>\n",
       "    </tr>\n",
       "    <tr>\n",
       "      <th>10</th>\n",
       "      <td>segments_pitches</td>\n",
       "    </tr>\n",
       "    <tr>\n",
       "      <th>11</th>\n",
       "      <td>segments_start</td>\n",
       "    </tr>\n",
       "    <tr>\n",
       "      <th>12</th>\n",
       "      <td>segments_timbre</td>\n",
       "    </tr>\n",
       "    <tr>\n",
       "      <th>13</th>\n",
       "      <td>songs</td>\n",
       "    </tr>\n",
       "    <tr>\n",
       "      <th>14</th>\n",
       "      <td>tatums_confidence</td>\n",
       "    </tr>\n",
       "    <tr>\n",
       "      <th>15</th>\n",
       "      <td>tatums_start</td>\n",
       "    </tr>\n",
       "  </tbody>\n",
       "</table>\n",
       "</div>"
      ],
      "text/plain": [
       "                             0\n",
       "0              bars_confidence\n",
       "1                   bars_start\n",
       "2             beats_confidence\n",
       "3                  beats_start\n",
       "4          sections_confidence\n",
       "5               sections_start\n",
       "6          segments_confidence\n",
       "7        segments_loudness_max\n",
       "8   segments_loudness_max_time\n",
       "9      segments_loudness_start\n",
       "10            segments_pitches\n",
       "11              segments_start\n",
       "12             segments_timbre\n",
       "13                       songs\n",
       "14           tatums_confidence\n",
       "15                tatums_start"
      ]
     },
     "execution_count": 50,
     "metadata": {},
     "output_type": "execute_result"
    }
   ],
   "source": [
    "df_columns = pd.DataFrame(dataset)\n",
    "df_columns"
   ]
  },
  {
   "cell_type": "code",
   "execution_count": 43,
   "id": "d1cc4485",
   "metadata": {},
   "outputs": [],
   "source": [
    "# Read the data from the dataset\n",
    "data = dataset[('bars_confidence')]"
   ]
  },
  {
   "cell_type": "code",
   "execution_count": 44,
   "id": "9386e0fd",
   "metadata": {},
   "outputs": [
    {
     "data": {
      "text/html": [
       "<div>\n",
       "<style scoped>\n",
       "    .dataframe tbody tr th:only-of-type {\n",
       "        vertical-align: middle;\n",
       "    }\n",
       "\n",
       "    .dataframe tbody tr th {\n",
       "        vertical-align: top;\n",
       "    }\n",
       "\n",
       "    .dataframe thead th {\n",
       "        text-align: right;\n",
       "    }\n",
       "</style>\n",
       "<table border=\"1\" class=\"dataframe\">\n",
       "  <thead>\n",
       "    <tr style=\"text-align: right;\">\n",
       "      <th></th>\n",
       "      <th>0</th>\n",
       "    </tr>\n",
       "  </thead>\n",
       "  <tbody>\n",
       "    <tr>\n",
       "      <th>0</th>\n",
       "      <td>0.643</td>\n",
       "    </tr>\n",
       "    <tr>\n",
       "      <th>1</th>\n",
       "      <td>0.746</td>\n",
       "    </tr>\n",
       "    <tr>\n",
       "      <th>2</th>\n",
       "      <td>0.722</td>\n",
       "    </tr>\n",
       "    <tr>\n",
       "      <th>3</th>\n",
       "      <td>0.095</td>\n",
       "    </tr>\n",
       "    <tr>\n",
       "      <th>4</th>\n",
       "      <td>0.091</td>\n",
       "    </tr>\n",
       "    <tr>\n",
       "      <th>...</th>\n",
       "      <td>...</td>\n",
       "    </tr>\n",
       "    <tr>\n",
       "      <th>78</th>\n",
       "      <td>0.000</td>\n",
       "    </tr>\n",
       "    <tr>\n",
       "      <th>79</th>\n",
       "      <td>0.000</td>\n",
       "    </tr>\n",
       "    <tr>\n",
       "      <th>80</th>\n",
       "      <td>0.000</td>\n",
       "    </tr>\n",
       "    <tr>\n",
       "      <th>81</th>\n",
       "      <td>0.000</td>\n",
       "    </tr>\n",
       "    <tr>\n",
       "      <th>82</th>\n",
       "      <td>0.000</td>\n",
       "    </tr>\n",
       "  </tbody>\n",
       "</table>\n",
       "<p>83 rows × 1 columns</p>\n",
       "</div>"
      ],
      "text/plain": [
       "        0\n",
       "0   0.643\n",
       "1   0.746\n",
       "2   0.722\n",
       "3   0.095\n",
       "4   0.091\n",
       "..    ...\n",
       "78  0.000\n",
       "79  0.000\n",
       "80  0.000\n",
       "81  0.000\n",
       "82  0.000\n",
       "\n",
       "[83 rows x 1 columns]"
      ]
     },
     "execution_count": 44,
     "metadata": {},
     "output_type": "execute_result"
    }
   ],
   "source": [
    "# Convert the data to a Pandas DataFrame\n",
    "df = pd.DataFrame(data)\n",
    "df"
   ]
  },
  {
   "cell_type": "code",
   "execution_count": null,
   "id": "d27fbc10",
   "metadata": {},
   "outputs": [],
   "source": []
  },
  {
   "cell_type": "code",
   "execution_count": null,
   "id": "18408f2b",
   "metadata": {},
   "outputs": [],
   "source": []
  }
 ],
 "metadata": {
  "kernelspec": {
   "display_name": "Python 3 (ipykernel)",
   "language": "python",
   "name": "python3"
  },
  "language_info": {
   "codemirror_mode": {
    "name": "ipython",
    "version": 3
   },
   "file_extension": ".py",
   "mimetype": "text/x-python",
   "name": "python",
   "nbconvert_exporter": "python",
   "pygments_lexer": "ipython3",
   "version": "3.10.9"
  }
 },
 "nbformat": 4,
 "nbformat_minor": 5
}
