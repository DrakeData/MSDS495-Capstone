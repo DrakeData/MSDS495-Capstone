{
 "cells": [
  {
   "cell_type": "code",
   "execution_count": 10,
   "id": "96588191",
   "metadata": {},
   "outputs": [],
   "source": [
    "import pandas as pd\n",
    "from random import randint"
   ]
  },
  {
   "cell_type": "code",
   "execution_count": 4,
   "id": "e41f10b0",
   "metadata": {},
   "outputs": [],
   "source": [
    "#pip install torch torchvision torchaudio"
   ]
  },
  {
   "cell_type": "markdown",
   "id": "bb5723fb",
   "metadata": {},
   "source": [
    "## Utilizing a Hugging Face Model\n",
    "https://huggingface.co/mrm8488/t5-base-finetuned-emotion"
   ]
  },
  {
   "cell_type": "code",
   "execution_count": 50,
   "id": "d0bfff22",
   "metadata": {},
   "outputs": [],
   "source": [
    "from transformers import AutoTokenizer, AutoModelForSeq2SeqLM\n",
    "\n",
    "tokenizer = AutoTokenizer.from_pretrained(\"mrm8488/t5-base-finetuned-emotion\")\n",
    "\n",
    "model = AutoModelForSeq2SeqLM.from_pretrained(\"mrm8488/t5-base-finetuned-emotion\")\n",
    "\n",
    "def get_emotion(text):\n",
    "    input_ids = tokenizer.encode(text + '</s>', return_tensors='pt', max_length = 512, truncation = True)\n",
    "\n",
    "    output = model.generate(input_ids=input_ids,\n",
    "               max_length=2)\n",
    "  \n",
    "    dec = [tokenizer.decode(ids) for ids in output]\n",
    "    label = dec[0]\n",
    "    return label\n",
    "  \n",
    "#get_emotion(\"i feel as if i havent blogged in ages are at least truly blogged i am doing an update cute\") # Output: 'joy'\n",
    " \n",
    "#get_emotion(\"i have a feeling i kinda lost my best friend\") # Output: 'sadness'"
   ]
  },
  {
   "cell_type": "markdown",
   "id": "9595e0ae",
   "metadata": {},
   "source": [
    "### Testing Model"
   ]
  },
  {
   "cell_type": "code",
   "execution_count": 51,
   "id": "47045769",
   "metadata": {},
   "outputs": [
    {
     "data": {
      "text/plain": [
       "'<pad> joy'"
      ]
     },
     "execution_count": 51,
     "metadata": {},
     "output_type": "execute_result"
    }
   ],
   "source": [
    "get_emotion(\"i feel as if i havent blogged in ages are at least truly blogged i am doing an update cute\") # Output: 'joy'"
   ]
  },
  {
   "cell_type": "code",
   "execution_count": 52,
   "id": "f2cb1d7c",
   "metadata": {},
   "outputs": [
    {
     "data": {
      "text/plain": [
       "'<pad> sadness'"
      ]
     },
     "execution_count": 52,
     "metadata": {},
     "output_type": "execute_result"
    }
   ],
   "source": [
    "get_emotion(\"i have a feeling i kinda lost my best friend\") # Output: 'sadness'"
   ]
  },
  {
   "cell_type": "markdown",
   "id": "4dc81db6",
   "metadata": {},
   "source": [
    "## Retrieving and Classifying Lyrics\n",
    "Using the Genius.com API\n",
    "https://lyricsgenius.readthedocs.io/en/master/index.html"
   ]
  },
  {
   "cell_type": "code",
   "execution_count": 8,
   "id": "b36947fc",
   "metadata": {},
   "outputs": [],
   "source": [
    "from lyricsgenius import Genius\n",
    "\n",
    "token = '2N2g5mQnfOduTA74y4VkVAGAOkz-quq-F5wdJ-hfrxjKg2W1Rpqjz9k2WAI-cjZW'\n",
    "\n",
    "genius = Genius(token, timeout = 200, verbose = False, excluded_terms=[\"(Remix)\", \"(Live)\"], remove_section_headers = True)"
   ]
  },
  {
   "cell_type": "code",
   "execution_count": 24,
   "id": "574d3867",
   "metadata": {},
   "outputs": [],
   "source": [
    "i = randint(0, len(df))\n",
    "songs = genius.search_songs(df.loc[i,'track_name'] +' '+ df.loc[i,'main artist']) #Finding all searches\n",
    "lyrics = genius.lyrics(song_url = songs['hits'][0]['result']['url']) #Returning the first song's lyrics"
   ]
  },
  {
   "cell_type": "code",
   "execution_count": 66,
   "id": "200aaa00",
   "metadata": {},
   "outputs": [],
   "source": [
    "def song_emotion(track_name, artist):\n",
    "    songs = genius.search_songs(track_name + ' ' + artist) #Finding all searches\n",
    "    try:\n",
    "        lyrics = genius.lyrics(song_url = songs['hits'][0]['result']['url']) #Returning the first song's lyrics\n",
    "        lyrics = lyrics.split('Lyrics\\n', 1)[1] #Removing the title\n",
    "        lyrics = lyrics.split('Embed')[0] #Removing the end\n",
    "        lyrics = lyrics.replace('\\n', ' ') #Removing line breaks from string\n",
    "        print(get_emotion(lyrics).split(' ')[1])\n",
    "    except:\n",
    "        print('')"
   ]
  },
  {
   "cell_type": "markdown",
   "id": "48e61f2c",
   "metadata": {},
   "source": [
    "### Testing Output"
   ]
  },
  {
   "cell_type": "code",
   "execution_count": 72,
   "id": "cd3cd2b3",
   "metadata": {},
   "outputs": [],
   "source": [
    "track_name = 'Red'\n",
    "artist = 'Taylor Swift'"
   ]
  },
  {
   "cell_type": "code",
   "execution_count": 73,
   "id": "813f0d5a",
   "metadata": {},
   "outputs": [
    {
     "name": "stdout",
     "output_type": "stream",
     "text": [
      "love\n"
     ]
    }
   ],
   "source": [
    "song_emotion(track_name, artist)"
   ]
  },
  {
   "cell_type": "markdown",
   "id": "74918bcb",
   "metadata": {},
   "source": [
    "### Testing Errors"
   ]
  },
  {
   "cell_type": "code",
   "execution_count": 74,
   "id": "81db1005",
   "metadata": {},
   "outputs": [
    {
     "name": "stdout",
     "output_type": "stream",
     "text": [
      "\n"
     ]
    }
   ],
   "source": [
    "track_name = 'fake song'\n",
    "artist = 'fake artist'\n",
    "\n",
    "song_emotion(track_name, artist)"
   ]
  }
 ],
 "metadata": {
  "kernelspec": {
   "display_name": "Python 3 (ipykernel)",
   "language": "python",
   "name": "python3"
  },
  "language_info": {
   "codemirror_mode": {
    "name": "ipython",
    "version": 3
   },
   "file_extension": ".py",
   "mimetype": "text/x-python",
   "name": "python",
   "nbconvert_exporter": "python",
   "pygments_lexer": "ipython3",
   "version": "3.9.7"
  }
 },
 "nbformat": 4,
 "nbformat_minor": 5
}
